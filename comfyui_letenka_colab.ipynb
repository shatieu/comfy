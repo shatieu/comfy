{
 "cells": [
  {
   "cell_type": "markdown",
   "metadata": {},
   "source": [
    "# ComfyUI Colab \u2014 Clean \"Le\u0161t\u011bnka\" Setup"
   ]
  },
  {
   "cell_type": "code",
   "metadata": {},
   "source": [
    "from google.colab import drive\n",
    "drive.mount('/content/drive', force_remount=True)\n",
    "print(\"Mounted at /content/drive\")\n",
    "import os\n",
    "BASE = \"/content/drive/MyDrive/ComfyUI\" if os.path.isdir(\"/content/drive/MyDrive/ComfyUI\") else \"/content/ComfyUI\"\n",
    "print(\"ComfyUI base:\", BASE)"
   ],
   "execution_count": null,
   "outputs": []
  },
  {
   "cell_type": "code",
   "metadata": {},
   "source": [
    "!pip install -U pip wheel setuptools\n",
    "\n",
    "# Numpy/SciPy pins (fixes \"numpy.char\" errors)\n",
    "!pip install --no-deps --upgrade \"numpy==1.26.4\"\n",
    "!pip install --upgrade \"scipy==1.11.4\"\n",
    "\n",
    "# ONNX stack\n",
    "!pip install --upgrade \"onnx==1.16.2\" \"onnxruntime-gpu==1.18.1\"\n",
    "\n",
    "# OpenCV (prefer headless to reduce conflicts)\n",
    "!pip install --upgrade \"opencv-python-headless==4.10.0.84\"\n",
    "\n",
    "import os, shutil, subprocess, pathlib\n",
    "\n",
    "CNODES = f\"{BASE}/custom_nodes\"\n",
    "aux_dir = os.path.join(CNODES, \"comfyui_controlnet_aux\")\n",
    "if os.path.isdir(aux_dir):\n",
    "    shutil.rmtree(aux_dir)\n",
    "pathlib.Path(CNODES).mkdir(parents=True, exist_ok=True)\n",
    "subprocess.check_call(f\"cd '{CNODES}' && git clone https://github.com/Fannovel16/comfyui_controlnet_aux.git\", shell=True)\n",
    "\n",
    "!pip install --upgrade \"insightface==0.7.3\"\n",
    "import insightface, os\n",
    "print(\"InsightFace version:\", insightface.__version__)\n"
   ],
   "execution_count": null,
   "outputs": []
  },
  {
   "cell_type": "code",
   "metadata": {},
   "source": [
    "import sys, os, importlib\n",
    "sys.path.insert(0, f\"{BASE}/custom_nodes\")\n",
    "mod = importlib.import_module(\"comfyui_controlnet_aux\")\n",
    "\n",
    "from comfyui_controlnet_aux.node_wrappers import openpose, dwpose\n",
    "\n",
    "print(\"ControlNet Aux import OK \u2014 OpenPose + DWPose wrappers available.\")\n",
    "\n",
    "from custom_controlnet_aux.openpose.util import body_estimation\n",
    "from custom_controlnet_aux.dwpose import DwposeDetector\n",
    "\n",
    "print(\"Aux warm-up completed.\")\n"
   ],
   "execution_count": null,
   "outputs": []
  },
  {
   "cell_type": "code",
   "metadata": {},
   "source": [
    "import os, subprocess, time, re, pathlib\n",
    "\n",
    "# Install cloudflared if missing\n",
    "if not pathlib.Path('/usr/local/bin/cloudflared').exists():\n",
    "    subprocess.run('wget -q -O cloudflared.deb https://github.com/cloudflare/cloudflared/releases/latest/download/cloudflared-linux-amd64.deb', shell=True, check=True)\n",
    "    subprocess.run('dpkg -i cloudflared.deb', shell=True, check=True)\n",
    "\n",
    "os.chdir(BASE)\n",
    "server = subprocess.Popen(['python', 'main.py', '--listen', '0.0.0.0:8188', '--cuda-device', '0'])\n",
    "\n",
    "# Start cloudflared tunnel\n",
    "subprocess.Popen(['cloudflared', 'tunnel', '--url', 'http://localhost:8188', '--logfile', 'cloudflared.log', '--no-autoupdate'])\n",
    "\n",
    "# Wait for tunnel to initialize and print the public URL\n",
    "for _ in range(30):\n",
    "    time.sleep(1)\n",
    "    if os.path.exists('cloudflared.log'):\n",
    "        with open('cloudflared.log') as f:\n",
    "            for line in f:\n",
    "                if 'trycloudflare.com' in line:\n",
    "                    url = re.search(r'https://[0-9a-z-]*\\.trycloudflare.com', line).group(0)\n",
    "                    print('Public URL:', url)\n",
    "                    raise SystemExit\n",
    "print('Failed to create Cloudflared tunnel')\n"
   ],
   "execution_count": null,
   "outputs": []
  },
  {
   "cell_type": "code",
   "metadata": {},
   "source": [
    "import pathlib\n",
    "\n",
    "paths = [\n",
    "    f\"{BASE}/models/checkpoints\",\n",
    "    f\"{BASE}/models/InstantID/checkpoints\",\n",
    "    f\"{BASE}/models/InstantID/checkpoints/controlnet\",\n",
    "    f\"{BASE}/input\",\n",
    "]\n",
    "\n",
    "for p in paths:\n",
    "    pathlib.Path(p).mkdir(parents=True, exist_ok=True)\n",
    "\n",
    "print(\n",
    "    \"Model folders prepared. Place your models as follows:\\n\"\n",
    "    f\"  SDXL: {BASE}/models/checkpoints/sd_xl_base_1.0.safetensors\\n\"\n",
    "    f\"  InstantID adapter: {BASE}/models/InstantID/checkpoints/ip-adapter.bin\\n\"\n",
    "    f\"  InstantID controlnet: {BASE}/models/InstantID/checkpoints/controlnet/instantid_sdxl.safetensors\"\n",
    ")\n"
   ],
   "execution_count": null,
   "outputs": []
  }
 ],
 "metadata": {
  "colab": {
   "provenance": []
  },
  "kernelspec": {
   "display_name": "Python 3",
   "language": "python",
   "name": "python3"
  },
  "language_info": {
   "name": "python"
  }
 },
 "nbformat": 4,
 "nbformat_minor": 0
}