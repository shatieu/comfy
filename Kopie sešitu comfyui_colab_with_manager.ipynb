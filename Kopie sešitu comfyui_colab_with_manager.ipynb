{
 "cells": [
  {
   "cell_type": "markdown",
   "metadata": {},
   "source": [
    "[![Open In Colab](https://colab.research.google.com/assets/colab-badge.svg)](https://colab.research.google.com/github/REPO_OWNER/comfy/blob/main/Kopie%20se%C5%A1itu%20comfyui_colab_with_manager.ipynb)"
   ]
  },
  {
   "cell_type": "markdown",
   "metadata": {
    "id": "aaaaaaaaaa"
   },
   "source": [
    "Git clone the repo and install the requirements. (ignore the pip errors about protobuf)"
   ]
  },
  {
   "cell_type": "code",
   "execution_count": null,
   "metadata": {
    "id": "bbbbbbbbbb",
    "colab": {
     "base_uri": "https://localhost:8080/"
    },
    "executionInfo": {
     "status": "ok",
     "timestamp": 1755438954928,
     "user_tz": -120,
     "elapsed": 1066944,
     "user": {
      "displayName": "Oppossum Games",
      "userId": "12957721761534438702"
     }
    },
    "outputId": "65ba1e6a-1916-4219-ac12-ecf9cb9f3a9d"
   },
   "outputs": [],
   "source": [
    "# #@title Environment Setup\n",
    "\n",
    "from pathlib import Path\n",
    "\n",
    "OPTIONS = {}\n",
    "\n",
    "USE_GOOGLE_DRIVE = True  #@param {type:\"boolean\"}\n",
    "UPDATE_COMFY_UI = True  #@param {type:\"boolean\"}\n",
    "USE_COMFYUI_MANAGER = True  #@param {type:\"boolean\"}\n",
    "INSTALL_CUSTOM_NODES_DEPENDENCIES = True  #@param {type:\"boolean\"}\n",
    "OPTIONS['USE_GOOGLE_DRIVE'] = USE_GOOGLE_DRIVE\n",
    "OPTIONS['UPDATE_COMFY_UI'] = UPDATE_COMFY_UI\n",
    "OPTIONS['USE_COMFYUI_MANAGER'] = USE_COMFYUI_MANAGER\n",
    "OPTIONS['INSTALL_CUSTOM_NODES_DEPENDENCIES'] = INSTALL_CUSTOM_NODES_DEPENDENCIES\n",
    "\n",
    "current_dir = !pwd\n",
    "WORKSPACE = f\"{current_dir[0]}/ComfyUI\"\n",
    "\n",
    "if OPTIONS['USE_GOOGLE_DRIVE']:\n",
    "    !echo \"Mounting Google Drive...\"\n",
    "    %cd /\n",
    "\n",
    "    from google.colab import drive\n",
    "    drive.mount('/content/drive')\n",
    "\n",
    "    WORKSPACE = \"/content/drive/MyDrive/ComfyUI\"\n",
    "    %cd /content/drive/MyDrive\n",
    "\n",
    "![ ! -d $WORKSPACE ] && echo -= Initial setup ComfyUI =- && git clone https://github.com/comfyanonymous/ComfyUI\n",
    "%cd $WORKSPACE\n",
    "\n",
    "if OPTIONS['UPDATE_COMFY_UI']:\n",
    "  !echo -= Updating ComfyUI =-\n",
    "\n",
    "  # Correction of the issue of permissions being deleted on Google Drive.\n",
    "  ![ -f \".ci/nightly/update_windows/update_comfyui_and_python_dependencies.bat\" ] && chmod 755 .ci/nightly/update_windows/update_comfyui_and_python_dependencies.bat\n",
    "  ![ -f \".ci/nightly/windows_base_files/run_nvidia_gpu.bat\" ] && chmod 755 .ci/nightly/windows_base_files/run_nvidia_gpu.bat\n",
    "  ![ -f \".ci/update_windows/update_comfyui_and_python_dependencies.bat\" ] && chmod 755 .ci/update_windows/update_comfyui_and_python_dependencies.bat\n",
    "  ![ -f \".ci/update_windows_cu118/update_comfyui_and_python_dependencies.bat\" ] && chmod 755 .ci/update_windows_cu118/update_comfyui_and_python_dependencies.bat\n",
    "  ![ -f \".ci/update_windows/update.py\" ] && chmod 755 .ci/update_windows/update.py\n",
    "  ![ -f \".ci/update_windows/update_comfyui.bat\" ] && chmod 755 .ci/update_windows/update_comfyui.bat\n",
    "  ![ -f \".ci/update_windows/README_VERY_IMPORTANT.txt\" ] && chmod 755 .ci/update_windows/README_VERY_IMPORTANT.txt\n",
    "  ![ -f \".ci/update_windows/run_cpu.bat\" ] && chmod 755 .ci/update_windows/run_cpu.bat\n",
    "  ![ -f \".ci/update_windows/run_nvidia_gpu.bat\" ] && chmod 755 .ci/update_windows/run_nvidia_gpu.bat\n",
    "\n",
    "  !git pull\n",
    "\n",
    "!echo -= Install dependencies =-\n",
    "!pip3 install accelerate\n",
    "!pip3 install einops transformers>=4.28.1 safetensors>=0.4.2 aiohttp pyyaml Pillow scipy tqdm psutil tokenizers>=0.13.3\n",
    "!pip3 install torch torchvision torchaudio --index-url https://download.pytorch.org/whl/cu121\n",
    "!pip3 install torchsde\n",
    "!pip3 install kornia>=0.7.1 spandrel soundfile sentencepiece\n",
    "\n",
    "if OPTIONS['USE_COMFYUI_MANAGER']:\n",
    "  %cd custom_nodes\n",
    "\n",
    "  # Correction of the issue of permissions being deleted on Google Drive.\n",
    "  ![ -f \"ComfyUI-Manager/check.sh\" ] && chmod 755 ComfyUI-Manager/check.sh\n",
    "  ![ -f \"ComfyUI-Manager/scan.sh\" ] && chmod 755 ComfyUI-Manager/scan.sh\n",
    "  ![ -f \"ComfyUI-Manager/node_db/dev/scan.sh\" ] && chmod 755 ComfyUI-Manager/node_db/dev/scan.sh\n",
    "  ![ -f \"ComfyUI-Manager/node_db/tutorial/scan.sh\" ] && chmod 755 ComfyUI-Manager/node_db/tutorial/scan.sh\n",
    "  ![ -f \"ComfyUI-Manager/scripts/install-comfyui-venv-linux.sh\" ] && chmod 755 ComfyUI-Manager/scripts/install-comfyui-venv-linux.sh\n",
    "  ![ -f \"ComfyUI-Manager/scripts/install-comfyui-venv-win.bat\" ] && chmod 755 ComfyUI-Manager/scripts/install-comfyui-venv-win.bat\n",
    "\n",
    "  ![ ! -d ComfyUI-Manager ] && echo -= Initial setup ComfyUI-Manager =- && git clone https://github.com/ltdrdata/ComfyUI-Manager\n",
    "  %cd ComfyUI-Manager\n",
    "  !git pull\n",
    "\n",
    "%cd $WORKSPACE\n",
    "\n",
    "if OPTIONS['INSTALL_CUSTOM_NODES_DEPENDENCIES']:\n",
    "  !echo -= Install custom nodes dependencies =-\n",
    "  !pip install GitPython\n",
    "  !python custom_nodes/ComfyUI-Manager/cm-cli.py restore-dependencies\n"
   ]
  },
  {
   "cell_type": "markdown",
   "metadata": {
    "id": "cccccccccc"
   },
   "source": [
    "Download some models/checkpoints/vae or custom comfyui nodes (uncomment the commands for the ones you want)"
   ]
  },
  {
   "cell_type": "code",
   "execution_count": null,
   "metadata": {
    "id": "dddddddddd",
    "colab": {
     "base_uri": "https://localhost:8080/"
    },
    "executionInfo": {
     "status": "ok",
     "timestamp": 1755439041068,
     "user_tz": -120,
     "elapsed": 79976,
     "user": {
      "displayName": "Oppossum Games",
      "userId": "12957721761534438702"
     }
    },
    "outputId": "0602d4b8-9bc4-4049-d16b-e3d525556558"
   },
   "outputs": [],
   "source": [
    "# Checkpoints\n",
    "\n",
    "### SDXL\n",
    "### I recommend these workflow examples: https://comfyanonymous.github.io/ComfyUI_examples/sdxl/\n",
    "\n",
    "!wget -c https://huggingface.co/stabilityai/stable-diffusion-xl-base-1.0/resolve/main/sd_xl_base_1.0.safetensors -P ./models/checkpoints/\n",
    "!wget -c https://huggingface.co/stabilityai/stable-diffusion-xl-refiner-1.0/resolve/main/sd_xl_refiner_1.0.safetensors -P ./models/checkpoints/\n",
    "\n",
    "# SDXL ReVision\n",
    "!wget -c https://huggingface.co/comfyanonymous/clip_vision_g/resolve/main/clip_vision_g.safetensors -P ./models/clip_vision/\n",
    "\n",
    "# SD1.5\n",
    "!wget -c https://huggingface.co/runwayml/stable-diffusion-v1-5/resolve/main/v1-5-pruned-emaonly.ckpt -P ./models/checkpoints/\n",
    "\n",
    "# SD2\n",
    "!wget -c https://huggingface.co/stabilityai/stable-diffusion-2-1-base/resolve/main/v2-1_512-ema-pruned.safetensors -P ./models/checkpoints/\n",
    "!wget -c https://huggingface.co/stabilityai/stable-diffusion-2-1/resolve/main/v2-1_768-ema-pruned.safetensors -P ./models/checkpoints/\n",
    "\n",
    "# Some SD1.5 anime style\n",
    "#!wget -c https://huggingface.co/WarriorMama777/OrangeMixs/resolve/main/Models/AbyssOrangeMix2/AbyssOrangeMix2_hard.safetensors -P ./models/checkpoints/\n",
    "#!wget -c https://huggingface.co/WarriorMama777/OrangeMixs/resolve/main/Models/AbyssOrangeMix3/AOM3A1_orangemixs.safetensors -P ./models/checkpoints/\n",
    "#!wget -c https://huggingface.co/WarriorMama777/OrangeMixs/resolve/main/Models/AbyssOrangeMix3/AOM3A3_orangemixs.safetensors -P ./models/checkpoints/\n",
    "!wget -c https://huggingface.co/Linaqruf/anything-v3.0/resolve/main/anything-v3-fp16-pruned.safetensors -P ./models/checkpoints/\n",
    "\n",
    "# Waifu Diffusion 1.5 (anime style SD2.x 768-v)\n",
    "!wget -c https://huggingface.co/waifu-diffusion/wd-1-5-beta3/resolve/main/wd-illusion-fp16.safetensors -P ./models/checkpoints/\n",
    "\n",
    "\n",
    "# unCLIP models\n",
    "!wget -c https://huggingface.co/comfyanonymous/illuminatiDiffusionV1_v11_unCLIP/resolve/main/illuminatiDiffusionV1_v11-unclip-h-fp16.safetensors -P ./models/checkpoints/\n",
    "!wget -c https://huggingface.co/comfyanonymous/wd-1.5-beta2_unCLIP/resolve/main/wd-1-5-beta2-aesthetic-unclip-h-fp16.safetensors -P ./models/checkpoints/\n",
    "\n",
    "\n",
    "# VAE\n",
    "!wget -c https://huggingface.co/stabilityai/sd-vae-ft-mse-original/resolve/main/vae-ft-mse-840000-ema-pruned.safetensors -P ./models/vae/\n",
    "!wget -c https://huggingface.co/WarriorMama777/OrangeMixs/resolve/main/VAEs/orangemix.vae.pt -P ./models/vae/\n",
    "!wget -c https://huggingface.co/hakurei/waifu-diffusion-v1-4/resolve/main/vae/kl-f8-anime2.ckpt -P ./models/vae/\n",
    "\n",
    "\n",
    "# Loras\n",
    "!wget -c https://civitai.com/api/download/models/10350 -O ./models/loras/theovercomer8sContrastFix_sd21768.safetensors #theovercomer8sContrastFix SD2.x 768-v\n",
    "!wget -c https://civitai.com/api/download/models/10638 -O ./models/loras/theovercomer8sContrastFix_sd15.safetensors #theovercomer8sContrastFix SD1.x\n",
    "!wget -c https://huggingface.co/stabilityai/stable-diffusion-xl-base-1.0/resolve/main/sd_xl_offset_example-lora_1.0.safetensors -P ./models/loras/ #SDXL offset noise lora\n",
    "\n",
    "\n",
    "# T2I-Adapter\n",
    "!wget -c https://huggingface.co/TencentARC/T2I-Adapter/resolve/main/models/t2iadapter_depth_sd14v1.pth -P ./models/controlnet/\n",
    "!wget -c https://huggingface.co/TencentARC/T2I-Adapter/resolve/main/models/t2iadapter_seg_sd14v1.pth -P ./models/controlnet/\n",
    "!wget -c https://huggingface.co/TencentARC/T2I-Adapter/resolve/main/models/t2iadapter_sketch_sd14v1.pth -P ./models/controlnet/\n",
    "!wget -c https://huggingface.co/TencentARC/T2I-Adapter/resolve/main/models/t2iadapter_keypose_sd14v1.pth -P ./models/controlnet/\n",
    "!wget -c https://huggingface.co/TencentARC/T2I-Adapter/resolve/main/models/t2iadapter_openpose_sd14v1.pth -P ./models/controlnet/\n",
    "!wget -c https://huggingface.co/TencentARC/T2I-Adapter/resolve/main/models/t2iadapter_color_sd14v1.pth -P ./models/controlnet/\n",
    "!wget -c https://huggingface.co/TencentARC/T2I-Adapter/resolve/main/models/t2iadapter_canny_sd14v1.pth -P ./models/controlnet/\n",
    "\n",
    "# T2I Styles Model\n",
    "!wget -c https://huggingface.co/TencentARC/T2I-Adapter/resolve/main/models/t2iadapter_style_sd14v1.pth -P ./models/style_models/\n",
    "\n",
    "# CLIPVision model (needed for styles model)\n",
    "!wget -c https://huggingface.co/openai/clip-vit-large-patch14/resolve/main/pytorch_model.bin -O ./models/clip_vision/clip_vit14.bin\n",
    "\n",
    "\n",
    "# ControlNet\n",
    "!wget -c https://huggingface.co/comfyanonymous/ControlNet-v1-1_fp16_safetensors/resolve/main/control_v11e_sd15_ip2p_fp16.safetensors -P ./models/controlnet/\n",
    "!wget -c https://huggingface.co/comfyanonymous/ControlNet-v1-1_fp16_safetensors/resolve/main/control_v11e_sd15_shuffle_fp16.safetensors -P ./models/controlnet/\n",
    "!wget -c https://huggingface.co/comfyanonymous/ControlNet-v1-1_fp16_safetensors/resolve/main/control_v11p_sd15_canny_fp16.safetensors -P ./models/controlnet/\n",
    "!wget -c https://huggingface.co/comfyanonymous/ControlNet-v1-1_fp16_safetensors/resolve/main/control_v11f1p_sd15_depth_fp16.safetensors -P ./models/controlnet/\n",
    "!wget -c https://huggingface.co/comfyanonymous/ControlNet-v1-1_fp16_safetensors/resolve/main/control_v11p_sd15_inpaint_fp16.safetensors -P ./models/controlnet/\n",
    "!wget -c https://huggingface.co/comfyanonymous/ControlNet-v1-1_fp16_safetensors/resolve/main/control_v11p_sd15_lineart_fp16.safetensors -P ./models/controlnet/\n",
    "!wget -c https://huggingface.co/comfyanonymous/ControlNet-v1-1_fp16_safetensors/resolve/main/control_v11p_sd15_mlsd_fp16.safetensors -P ./models/controlnet/\n",
    "!wget -c https://huggingface.co/comfyanonymous/ControlNet-v1-1_fp16_safetensors/resolve/main/control_v11p_sd15_normalbae_fp16.safetensors -P ./models/controlnet/\n",
    "!wget -c https://huggingface.co/comfyanonymous/ControlNet-v1-1_fp16_safetensors/resolve/main/control_v11p_sd15_openpose_fp16.safetensors -P ./models/controlnet/\n",
    "!wget -c https://huggingface.co/comfyanonymous/ControlNet-v1-1_fp16_safetensors/resolve/main/control_v11p_sd15_scribble_fp16.safetensors -P ./models/controlnet/\n",
    "!wget -c https://huggingface.co/comfyanonymous/ControlNet-v1-1_fp16_safetensors/resolve/main/control_v11p_sd15_seg_fp16.safetensors -P ./models/controlnet/\n",
    "!wget -c https://huggingface.co/comfyanonymous/ControlNet-v1-1_fp16_safetensors/resolve/main/control_v11p_sd15_softedge_fp16.safetensors -P ./models/controlnet/\n",
    "!wget -c https://huggingface.co/comfyanonymous/ControlNet-v1-1_fp16_safetensors/resolve/main/control_v11p_sd15s2_lineart_anime_fp16.safetensors -P ./models/controlnet/\n",
    "!wget -c https://huggingface.co/comfyanonymous/ControlNet-v1-1_fp16_safetensors/resolve/main/control_v11u_sd15_tile_fp16.safetensors -P ./models/controlnet/\n",
    "\n",
    "# ControlNet SDXL\n",
    "!wget -c https://huggingface.co/stabilityai/control-lora/resolve/main/control-LoRAs-rank256/control-lora-canny-rank256.safetensors -P ./models/controlnet/\n",
    "!wget -c https://huggingface.co/stabilityai/control-lora/resolve/main/control-LoRAs-rank256/control-lora-depth-rank256.safetensors -P ./models/controlnet/\n",
    "!wget -c https://huggingface.co/stabilityai/control-lora/resolve/main/control-LoRAs-rank256/control-lora-recolor-rank256.safetensors -P ./models/controlnet/\n",
    "!wget -c https://huggingface.co/stabilityai/control-lora/resolve/main/control-LoRAs-rank256/control-lora-sketch-rank256.safetensors -P ./models/controlnet/\n",
    "\n",
    "# Controlnet Preprocessor nodes by Fannovel16\n",
    "!cd custom_nodes && git clone https://github.com/Fannovel16/comfy_controlnet_preprocessors; cd comfy_controlnet_preprocessors && python install.py\n",
    "\n",
    "\n",
    "# GLIGEN\n",
    "!wget -c https://huggingface.co/comfyanonymous/GLIGEN_pruned_safetensors/resolve/main/gligen_sd14_textbox_pruned_fp16.safetensors -P ./models/gligen/\n",
    "\n",
    "\n",
    "# ESRGAN upscale model\n",
    "!wget -c https://github.com/xinntao/Real-ESRGAN/releases/download/v0.1.0/RealESRGAN_x4plus.pth -P ./models/upscale_models/\n",
    "!wget -c https://huggingface.co/sberbank-ai/Real-ESRGAN/resolve/main/RealESRGAN_x2.pth -P ./models/upscale_models/\n",
    "!wget -c https://huggingface.co/sberbank-ai/Real-ESRGAN/resolve/main/RealESRGAN_x4.pth -P ./models/upscale_models/\n",
    "\n",
    "\n"
   ]
  },
  {
   "cell_type": "code",
   "source": [
    "# \u2705 ONE-SHOT FIX (deps + pin + ffmpeg) pro tvou sestavu\n",
    "import os, sys, subprocess, shutil, glob\n",
    "\n",
    "BASE = \"/content/drive/MyDrive/ComfyUI\" if os.path.isdir(\"/content/drive/MyDrive/ComfyUI\") else \"/content/ComfyUI\"\n",
    "print(\"ComfyUI base:\", BASE)\n",
    "\n",
    "# A) vy\u0159e\u0161 ofiko requirements\n",
    "subprocess.check_call([sys.executable, \"-m\", \"pip\", \"install\", \"-U\", \"-r\", f\"{BASE}/requirements.txt\"])\n",
    "\n",
    "# B) chyb\u011bj\u00edc\u00ed knihovny z logu + pin pro controlnet_aux\n",
    "subprocess.check_call([sys.executable, \"-m\", \"pip\", \"install\", \"-U\",\n",
    "    \"pydantic-settings\", \"alembic\", \"av\", \"timm<1.0\",\n",
    "    \"comfyui-workflow-templates\", \"comfyui-embedded-docs\"\n",
    "])\n",
    "\n",
    "# C) ffmpeg pro video/audio nody (WAS apod.)\n",
    "os.system(\"apt-get -y update && apt-get -y install -y ffmpeg\")\n",
    "\n",
    "print(\"\u2705 Hotovo. Te\u010f naho\u0159e znovu spus\u0165 bu\u0148ku 'Run ComfyUI with cloudflare'.\")\n"
   ],
   "metadata": {
    "id": "ibb-rwoQgkAd",
    "colab": {
     "base_uri": "https://localhost:8080/"
    },
    "executionInfo": {
     "status": "ok",
     "timestamp": 1755439826549,
     "user_tz": -120,
     "elapsed": 208359,
     "user": {
      "displayName": "Oppossum Games",
      "userId": "12957721761534438702"
     }
    },
    "outputId": "2d1fd521-c244-41d4-b431-f4dc848b763b"
   },
   "execution_count": null,
   "outputs": []
  },
  {
   "cell_type": "code",
   "source": [
    "# QUICK HEALTH CHECK\n",
    "import importlib, sys\n",
    "def ok(m):\n",
    "    try:\n",
    "        mod = importlib.import_module(m)\n",
    "        v = getattr(mod, \"__version__\", \"OK\")\n",
    "        print(f\"\u2705 {m} {v}\")\n",
    "    except Exception as e:\n",
    "        print(f\"\u274c {m} -> {e}\")\n",
    "\n",
    "for m in [\"alembic\",\"pydantic_settings\",\"av\",\"controlnet_aux\",\"timm\"]:\n",
    "    ok(m)\n",
    "\n",
    "import timm\n",
    "from packaging import version\n",
    "print(\"timm<1.0?\", version.parse(timm.__version__) < version.parse(\"1.0\"))\n"
   ],
   "metadata": {
    "colab": {
     "base_uri": "https://localhost:8080/"
    },
    "id": "YxXdzvmd0rm2",
    "executionInfo": {
     "status": "ok",
     "timestamp": 1755440080958,
     "user_tz": -120,
     "elapsed": 6018,
     "user": {
      "displayName": "Oppossum Games",
      "userId": "12957721761534438702"
     }
    },
    "outputId": "07459de1-182d-4292-a609-25d1595159e6"
   },
   "execution_count": null,
   "outputs": []
  },
  {
   "cell_type": "code",
   "source": [
    "# \ud83d\udea7 Disable duplicitn\u00ed ControlNet Aux slo\u017eku\n",
    "import os, shutil\n",
    "\n",
    "BASE = \"/content/drive/MyDrive/ComfyUI\" if os.path.isdir(\"/content/drive/MyDrive/ComfyUI\") else \"/content/ComfyUI\"\n",
    "cands = [\"comfyui-controlnetaux\", \"comfyui_controlnet_aux\"]\n",
    "paths = [os.path.join(BASE, \"custom_nodes\", c) for c in cands]\n",
    "existing = [p for p in paths if os.path.isdir(p)]\n",
    "print(\"Nalezen\u00e9 ControlNetAux slo\u017eky:\", existing)\n",
    "\n",
    "# nech\u00e1me \"comfyui_controlnet_aux\", druhou (pokud existuje) vypneme\n",
    "for p in existing:\n",
    "    if os.path.basename(p) == \"comfyui-controlnetaux\":\n",
    "        new = p + \"_DISABLED\"\n",
    "        if not os.path.exists(new):\n",
    "            os.rename(p, new)\n",
    "            print(\"\u27a1\ufe0f Vypnuto (p\u0159ejmenov\u00e1no):\", p, \"\u2192\", new)\n",
    "\n",
    "print(\"\u2705 Hotovo. Po restartu bude aktivn\u00ed jen comfyui_controlnet_aux.\")\n"
   ],
   "metadata": {
    "colab": {
     "base_uri": "https://localhost:8080/"
    },
    "id": "4Uhsku9HhGC5",
    "executionInfo": {
     "status": "ok",
     "timestamp": 1755440086093,
     "user_tz": -120,
     "elapsed": 12,
     "user": {
      "displayName": "Oppossum Games",
      "userId": "12957721761534438702"
     }
    },
    "outputId": "be942c51-dbe2-4919-bb34-6616d67f9d36"
   },
   "execution_count": null,
   "outputs": []
  },
  {
   "cell_type": "code",
   "source": [
    "# FIX: reinstall controlnet_aux \u010dist\u011b\n",
    "import os, shutil, subprocess\n",
    "\n",
    "CNODES = \"/content/drive/MyDrive/ComfyUI/custom_nodes\"\n",
    "aux_dir = os.path.join(CNODES, \"comfyui_controlnet_aux\")\n",
    "\n",
    "# sma\u017eeme star\u00fd rozbit\u00fd adres\u00e1\u0159\n",
    "if os.path.isdir(aux_dir):\n",
    "    shutil.rmtree(aux_dir)\n",
    "\n",
    "# st\u00e1hneme \u010derstv\u011b z gitu\n",
    "subprocess.check_call(f\"cd '{CNODES}' && git clone https://github.com/Fannovel16/comfyui_controlnet_aux.git\", shell=True)\n",
    "\n",
    "print(\"\u2705 controlnet_aux reinstalov\u00e1n\")\n"
   ],
   "metadata": {
    "colab": {
     "base_uri": "https://localhost:8080/"
    },
    "id": "YNmqIxVWbynv",
    "executionInfo": {
     "status": "ok",
     "timestamp": 1755441013473,
     "user_tz": -120,
     "elapsed": 52434,
     "user": {
      "displayName": "Oppossum Games",
      "userId": "12957721761534438702"
     }
    },
    "outputId": "190f0962-9939-4c95-844c-6fd11d87f79f"
   },
   "execution_count": null,
   "outputs": []
  },
  {
   "cell_type": "code",
   "source": [
    "# --- NUMPY/SCIPY/OPENCV COMPAT FIX pro controlnet_aux/DWpose ---\n",
    "import sys, subprocess\n",
    "\n",
    "def pipi(*args):\n",
    "    print(\"pip\", *args)\n",
    "    subprocess.check_call([sys.executable, \"-m\", \"pip\", *args])\n",
    "\n",
    "# Dr\u017e\u00edme NumPy na 1.26.4 a sraz\u00edme SciPy a OpenCV na ov\u011b\u0159en\u00e9 verze\n",
    "pins = [\n",
    "    \"numpy==1.26.4\",           # ComfyUI-friendly\n",
    "    \"scipy==1.11.4\",           # kompatibiln\u00ed s NumPy 1.26.x a Python 3.11\n",
    "    \"opencv-python==4.8.1.78\", # aby si to nevy\u017e\u00e1dalo NumPy 2.x\n",
    "    \"opencv-python-headless==4.8.1.78\",\n",
    "]\n",
    "pipi(\"install\", \"--upgrade\", \"--force-reinstall\", *pins)\n",
    "\n",
    "print(\"\\n\u2705 Pins applied. Doporu\u010deno: soft restart Python procesu (viz dal\u0161\u00ed bu\u0148ku) a pak znovu smoke-test.\")\n"
   ],
   "metadata": {
    "colab": {
     "base_uri": "https://localhost:8080/"
    },
    "id": "KcCYv8LDfv5F",
    "executionInfo": {
     "status": "ok",
     "timestamp": 1755442010223,
     "user_tz": -120,
     "elapsed": 16850,
     "user": {
      "displayName": "Oppossum Games",
      "userId": "12957721761534438702"
     }
    },
    "outputId": "e8b082c3-bd38-40bd-aa9b-9022492acc2d"
   },
   "execution_count": null,
   "outputs": []
  },
  {
   "cell_type": "code",
   "source": [
    "import os, signal, time\n",
    "print(\"\ud83d\udd04 Restartuji Python proces...\")\n",
    "os.kill(os.getpid(), signal.SIGKILL)\n"
   ],
   "metadata": {
    "id": "MrhLsKpdf5QO"
   },
   "execution_count": null,
   "outputs": []
  },
  {
   "cell_type": "code",
   "source": [
    "# --- CONTROLNET_AUX SMOKE TEST ---\n",
    "import importlib, sys, os, json\n",
    "\n",
    "CNODES = \"/content/drive/MyDrive/ComfyUI/custom_nodes\"\n",
    "sys.path.insert(0, CNODES)\n",
    "\n",
    "mod = importlib.import_module(\"comfyui_controlnet_aux\")\n",
    "print(\"controlnet_aux import OK\")\n",
    "\n",
    "# Vezmeme p\u00e1r typick\u00fdch t\u0159\u00edd a zkontrolujeme, \u017ee INPUT_TYPES vrac\u00ed slovn\u00edky (ne stringy)\n",
    "names = [\n",
    "    \"controlaux_canny\",\n",
    "    \"controlaux_midas\",\n",
    "    \"controlaux_openpose\",\n",
    "    \"controlaux_dwpose\",\n",
    "    \"controlaux_lineart\",\n",
    "]\n",
    "\n",
    "bad = []\n",
    "for n in names:\n",
    "    cls = getattr(mod, n, None)\n",
    "    if cls is None:\n",
    "        bad.append((n, \"missing class\"))\n",
    "        continue\n",
    "    try:\n",
    "        it = cls.INPUT_TYPES()\n",
    "        ok = isinstance(it, dict) and all(hasattr(v, \"keys\") for v in it.values())\n",
    "        if not ok:\n",
    "            bad.append((n, f\"wrong INPUT_TYPES type: {type(it)}\"))\n",
    "    except Exception as e:\n",
    "        bad.append((n, f\"INPUT_TYPES error: {e}\"))\n",
    "\n",
    "if bad:\n",
    "    print(\"\\n\u274c Probl\u00e9mov\u00e9 nody:\")\n",
    "    for n, m in bad:\n",
    "        print(\"  -\", n, \"\u2192\", m)\n",
    "else:\n",
    "    print(\"\\n\u2705 controlnet_aux vypad\u00e1 zdrav\u011b.\")\n"
   ],
   "metadata": {
    "colab": {
     "base_uri": "https://localhost:8080/"
    },
    "id": "HyIzUyXwexSY",
    "executionInfo": {
     "status": "ok",
     "timestamp": 1755441738830,
     "user_tz": -120,
     "elapsed": 861,
     "user": {
      "displayName": "Oppossum Games",
      "userId": "12957721761534438702"
     }
    },
    "outputId": "2a8f3feb-9f5c-4159-a216-27f230420a75"
   },
   "execution_count": null,
   "outputs": []
  },
  {
   "cell_type": "code",
   "source": [
    "# --- INSIGHTFACE SANITY CHECK ---\n",
    "import os, sys, subprocess, importlib\n",
    "\n",
    "def pipi(*args):\n",
    "    print(\"pip\", *args)\n",
    "    subprocess.check_call([sys.executable, \"-m\", \"pip\", *args])\n",
    "\n",
    "# 1) verze knihoven (jen vyp\u00ed\u0161eme nebo doinstalujeme, kdy\u017e chyb\u00ed)\n",
    "need = {\n",
    "    \"insightface\": \"0.7.3\",\n",
    "    \"onnx\": \"1.16.2\",\n",
    "    # onnxruntime-gpu 1.18 funguje s CUDA 12.x na Colabu; kdy\u017e GPU provider nen\u00ed k dispozici, insightface si spadne na CPU provider\n",
    "    \"onnxruntime-gpu\": \"1.18.1\",\n",
    "}\n",
    "\n",
    "for pkg, ver in need.items():\n",
    "    try:\n",
    "        m = importlib.import_module(pkg.replace(\"-\", \"_\"))\n",
    "        print(f\"{pkg} present \u2192 OK ({getattr(m, '__version__', 'unknown')})\")\n",
    "    except Exception:\n",
    "        pipi(\"install\", \"-U\", f\"{pkg}=={ver}\")\n",
    "\n",
    "# 2) rychl\u00fd b\u011bh FaceAnalysis (st\u00e1hne model do ~/.insightface, pokud nen\u00ed)\n",
    "import insightface\n",
    "import numpy as np\n",
    "import cv2\n",
    "\n",
    "print(\"insightface version:\", insightface.__version__)\n",
    "from insightface.app import FaceAnalysis\n",
    "\n",
    "# preferujeme GPU, ale kdy\u017e nen\u00ed, insightface spadne na CPU provider\n",
    "providers = [\"CUDAExecutionProvider\", \"CPUExecutionProvider\"]\n",
    "app = FaceAnalysis(name=\"buffalo_l\", providers=providers, allowed_modules=None)\n",
    "app.prepare(ctx_id=0, det_size=(640, 640))\n",
    "\n",
    "# syntetick\u00fd mini-obr\u00e1zek (\u017e\u00e1dn\u00e9 citliv\u00e9 data), jde n\u00e1m jen o pr\u016fchod pipeline\n",
    "img = np.full((640, 640, 3), 200, dtype=np.uint8)\n",
    "cv2.circle(img, (320, 300), 120, (255, 255, 255), -1)  # \u201eobli\u010dej\u201c\n",
    "faces = app.get(img)\n",
    "print(f\"FaceAnalysis OK, nalezeno obli\u010dej\u016f: {len(faces)}; providers: {app.providers}\")\n"
   ],
   "metadata": {
    "colab": {
     "base_uri": "https://localhost:8080/",
     "height": 581
    },
    "id": "KtDUVb-Xe_UG",
    "executionInfo": {
     "status": "error",
     "timestamp": 1755441818289,
     "user_tz": -120,
     "elapsed": 22325,
     "user": {
      "displayName": "Oppossum Games",
      "userId": "12957721761534438702"
     }
    },
    "outputId": "5e3f5fd1-5422-490f-8a94-dbb122b808ad"
   },
   "execution_count": null,
   "outputs": []
  },
  {
   "cell_type": "markdown",
   "metadata": {
    "id": "kkkkkkkkkkkkkkk"
   },
   "source": [
    "### Run ComfyUI with cloudflared (Recommended Way)\n",
    "\n",
    "\n"
   ]
  },
  {
   "cell_type": "code",
   "execution_count": null,
   "metadata": {
    "id": "jjjjjjjjjjjjjj",
    "colab": {
     "base_uri": "https://localhost:8080/"
    },
    "outputId": "859713cf-a78b-408a-dc02-8a63373faa54",
    "executionInfo": {
     "status": "ok",
     "timestamp": 1755440668187,
     "user_tz": -120,
     "elapsed": 577680,
     "user": {
      "displayName": "Oppossum Games",
      "userId": "12957721761534438702"
     }
    }
   },
   "outputs": [],
   "source": [
    "!wget -P ~ https://github.com/cloudflare/cloudflared/releases/latest/download/cloudflared-linux-amd64.deb\n",
    "!dpkg -i ~/cloudflared-linux-amd64.deb\n",
    "\n",
    "import subprocess\n",
    "import threading\n",
    "import time\n",
    "import socket\n",
    "import urllib.request\n",
    "\n",
    "def iframe_thread(port):\n",
    "  while True:\n",
    "      time.sleep(0.5)\n",
    "      sock = socket.socket(socket.AF_INET, socket.SOCK_STREAM)\n",
    "      result = sock.connect_ex(('127.0.0.1', port))\n",
    "      if result == 0:\n",
    "        break\n",
    "      sock.close()\n",
    "  print(\"\\nComfyUI finished loading, trying to launch cloudflared (if it gets stuck here cloudflared is having issues)\\n\")\n",
    "\n",
    "  p = subprocess.Popen([\"cloudflared\", \"tunnel\", \"--url\", \"http://127.0.0.1:{}\".format(port)], stdout=subprocess.PIPE, stderr=subprocess.PIPE)\n",
    "  for line in p.stderr:\n",
    "    l = line.decode()\n",
    "    if \"trycloudflare.com \" in l:\n",
    "      print(\"This is the URL to access ComfyUI:\", l[l.find(\"http\"):], end='')\n",
    "    #print(l, end='')\n",
    "\n",
    "\n",
    "threading.Thread(target=iframe_thread, daemon=True, args=(8188,)).start()\n",
    "\n",
    "!python main.py --dont-print-server"
   ]
  },
  {
   "cell_type": "code",
   "source": [
    "# \u2705 ComfyUI INVENTORY (funguje s ComfyUI na Drive i v /content)\n",
    "import os, sys, json, platform, subprocess, re\n",
    "from pathlib import Path\n",
    "from datetime import datetime\n",
    "\n",
    "# 1) Najdi ko\u0159en ComfyUI\n",
    "CANDIDATES = [\n",
    "    \"/content/drive/MyDrive/ComfyUI\",\n",
    "    \"/content/ComfyUI\",\n",
    "    \"/workspace/ComfyUI\",\n",
    "]\n",
    "BASE = next((p for p in CANDIDATES if os.path.isdir(p)), None)\n",
    "if BASE is None:\n",
    "    raise SystemExit(\"\u274c Nena\u0161la jsem slo\u017eku ComfyUI (zkontroluj cestu).\")\n",
    "\n",
    "USER_DIR = os.path.join(BASE, \"user\")\n",
    "LOG_PATH = os.path.join(USER_DIR, \"comfyui.log\")\n",
    "\n",
    "def git_commit(repo):\n",
    "    try:\n",
    "        if os.path.isdir(os.path.join(repo, \".git\")):\n",
    "            return subprocess.check_output([\"git\",\"rev-parse\",\"HEAD\"], cwd=repo, text=True).strip()\n",
    "    except Exception:\n",
    "        pass\n",
    "    return \"unknown/zip\"\n",
    "\n",
    "def git_remote(repo):\n",
    "    try:\n",
    "        if os.path.isdir(os.path.join(repo, \".git\")):\n",
    "            out = subprocess.check_output([\"git\",\"remote\",\"-v\"], cwd=repo, text=True).strip()\n",
    "            fetches = [l for l in out.splitlines() if \"(fetch)\" in l]\n",
    "            return fetches[0] if fetches else \"n/a\"\n",
    "    except Exception:\n",
    "        pass\n",
    "    return \"n/a\"\n",
    "\n",
    "# 2) Sys/Torch info\n",
    "try:\n",
    "    import torch\n",
    "except Exception:\n",
    "    torch = None\n",
    "\n",
    "env = {\n",
    "    \"generated_at\": datetime.now().isoformat(timespec=\"seconds\"),\n",
    "    \"base_path\": BASE,\n",
    "    \"platform\": f\"{platform.system()} {platform.release()} ({platform.machine()})\",\n",
    "    \"python_version\": sys.version.replace(\"\\n\",\" \"),\n",
    "    \"torch\": getattr(torch, \"__version__\", \"not installed\"),\n",
    "    \"cuda_available\": bool(torch and torch.cuda.is_available()),\n",
    "    \"cuda_version\": getattr(getattr(torch, \"version\", None), \"cuda\", \"n/a\") if torch else \"n/a\",\n",
    "    \"device\": (torch.cuda.get_device_name(0) if torch and torch.cuda.is_available() else \"CPU\"),\n",
    "    \"comfyui_commit\": git_commit(BASE),\n",
    "    \"comfyui_remote\": git_remote(BASE),\n",
    "}\n",
    "\n",
    "# pokus o \u010dten\u00ed ComfyUI verze (z logu)\n",
    "env[\"comfyui_version\"] = None\n",
    "env[\"frontend_version\"] = None\n",
    "\n",
    "log_text = \"\"\n",
    "if os.path.isfile(LOG_PATH):\n",
    "    try:\n",
    "        with open(LOG_PATH, \"r\", encoding=\"utf-8\", errors=\"ignore\") as f:\n",
    "            log_text = f.read()\n",
    "        m = re.search(r\"ComfyUI version:\\s*([^\\n]+)\", log_text, re.IGNORECASE)\n",
    "        if not m:\n",
    "            m = re.search(r\"ComfyUI Version:\\s*([^\\n]+)\", log_text)\n",
    "        if m: env[\"comfyui_version\"] = m.group(1).strip()\n",
    "        mf = re.search(r\"ComfyUI frontend version:\\s*([^\\n]+)\", log_text, re.IGNORECASE)\n",
    "        if mf: env[\"frontend_version\"] = mf.group(1).strip()\n",
    "    except Exception:\n",
    "        pass\n",
    "\n",
    "# 3) Custom nodes (adres\u00e1\u0159 + import status z logu)\n",
    "cn_dir = os.path.join(BASE, \"custom_nodes\")\n",
    "custom_nodes = sorted([n for n in os.listdir(cn_dir) if os.path.isdir(os.path.join(cn_dir, n))]) if os.path.isdir(cn_dir) else []\n",
    "env[\"custom_nodes\"] = custom_nodes\n",
    "\n",
    "failed_nodes = []\n",
    "missing_deps = set()\n",
    "\n",
    "if log_text:\n",
    "    # IMPORT FAILED hl\u00e1\u0161ky\n",
    "    for line in log_text.splitlines():\n",
    "        if \"IMPORT FAILED\" in line:\n",
    "            failed_nodes.append(line.strip())\n",
    "        if \"Please do a: pip install -r requirements.txt\" in line:\n",
    "            missing_deps.add(\"requirements.txt\")\n",
    "        if \"No module named 'av'\" in line: missing_deps.add(\"av\")\n",
    "        if \"No module named 'alembic'\" in line: missing_deps.add(\"alembic\")\n",
    "        if \"pydantic-settings\" in line or \"pydantic_settings\" in line: missing_deps.add(\"pydantic-settings\")\n",
    "        if \"mutable default\" in line and \"timm\" in log_text:\n",
    "            missing_deps.add('timm<1.0 (pin)')\n",
    "\n",
    "env[\"import_failures\"] = failed_nodes\n",
    "env[\"suspected_missing_deps\"] = sorted(missing_deps)\n",
    "\n",
    "# 4) Modely\n",
    "models_dir = os.path.join(BASE, \"models\")\n",
    "count = 0\n",
    "by_ext = {}\n",
    "if os.path.isdir(models_dir):\n",
    "    for root, _, files in os.walk(models_dir):\n",
    "        for f in files:\n",
    "            count += 1\n",
    "            ext = os.path.splitext(f)[1].lower()\n",
    "            by_ext[ext] = by_ext.get(ext, 0) + 1\n",
    "env[\"models_count\"] = count\n",
    "env[\"models_by_ext\"] = dict(sorted(by_ext.items(), key=lambda x: (-x[1], x[0])))\n",
    "\n",
    "# 5) Ulo\u017e report a vytiskni hezk\u00e9 summary + JSON\n",
    "report_path = \"/content/inventory_report.txt\"\n",
    "lines = []\n",
    "lines.append(\"==== ComfyUI INVENTORY ====\")\n",
    "lines.append(f\"Base: {env['base_path']}\")\n",
    "lines.append(f\"ComfyUI commit: {env['comfyui_commit']}  | remote: {env['comfyui_remote']}\")\n",
    "lines.append(f\"ComfyUI version: {env.get('comfyui_version') or 'n/a'} | Frontend: {env.get('frontend_version') or 'n/a'}\")\n",
    "lines.append(f\"Python: {env['python_version']}\")\n",
    "lines.append(f\"Torch: {env['torch']} | CUDA: {env['cuda_version']} | avail: {env['cuda_available']} | dev: {env['device']}\")\n",
    "lines.append(f\"Custom nodes ({len(custom_nodes)}): {', '.join(custom_nodes) if custom_nodes else '(none)'}\")\n",
    "lines.append(f\"Models: {env['models_count']} files | by ext: {env['models_by_ext']}\")\n",
    "if failed_nodes:\n",
    "    lines.append(\"\\n-- IMPORT FAILED lines from log --\")\n",
    "    lines.extend(failed_nodes[:30])  # zobraz max 30\n",
    "if env[\"suspected_missing_deps\"]:\n",
    "    lines.append(\"\\n-- Suspected missing deps / pin suggestions --\")\n",
    "    lines.append(\", \".join(env[\"suspected_missing_deps\"]))\n",
    "lines.append(\"\\n-- RAW JSON --\")\n",
    "lines.append(json.dumps(env, indent=2, ensure_ascii=False))\n",
    "\n",
    "with open(report_path, \"w\", encoding=\"utf-8\") as f:\n",
    "    f.write(\"\\n\".join(lines))\n",
    "\n",
    "print(\"\\n\".join(lines[:1000]))\n",
    "print(f\"\\n\ud83d\udcc4 Ulo\u017eeno: {report_path}\")\n"
   ],
   "metadata": {
    "colab": {
     "base_uri": "https://localhost:8080/"
    },
    "id": "B2EvLZaZj1Nx",
    "executionInfo": {
     "status": "ok",
     "timestamp": 1755376458680,
     "user_tz": -120,
     "elapsed": 2683,
     "user": {
      "displayName": "Oppossum Games",
      "userId": "12957721761534438702"
     }
    },
    "outputId": "d6f9e765-5d45-46b7-8970-473ad9e75336"
   },
   "execution_count": null,
   "outputs": []
  },
  {
   "cell_type": "markdown",
   "metadata": {
    "id": "kkkkkkkkkkkkkk"
   },
   "source": [
    "### Run ComfyUI with localtunnel\n",
    "\n",
    "\n"
   ]
  },
  {
   "cell_type": "code",
   "execution_count": null,
   "metadata": {
    "id": "jjjjjjjjjjjjj"
   },
   "outputs": [],
   "source": [
    "!npm install -g localtunnel\n",
    "\n",
    "import subprocess\n",
    "import threading\n",
    "import time\n",
    "import socket\n",
    "import urllib.request\n",
    "\n",
    "def iframe_thread(port):\n",
    "  while True:\n",
    "      time.sleep(0.5)\n",
    "      sock = socket.socket(socket.AF_INET, socket.SOCK_STREAM)\n",
    "      result = sock.connect_ex(('127.0.0.1', port))\n",
    "      if result == 0:\n",
    "        break\n",
    "      sock.close()\n",
    "  print(\"\\nComfyUI finished loading, trying to launch localtunnel (if it gets stuck here localtunnel is having issues)\\n\")\n",
    "\n",
    "  print(\"The password/enpoint ip for localtunnel is:\", urllib.request.urlopen('https://ipv4.icanhazip.com').read().decode('utf8').strip(\"\\n\"))\n",
    "  p = subprocess.Popen([\"lt\", \"--port\", \"{}\".format(port)], stdout=subprocess.PIPE)\n",
    "  for line in p.stdout:\n",
    "    print(line.decode(), end='')\n",
    "\n",
    "\n",
    "threading.Thread(target=iframe_thread, daemon=True, args=(8188,)).start()\n",
    "\n",
    "!python main.py --dont-print-server"
   ]
  },
  {
   "cell_type": "markdown",
   "metadata": {
    "id": "gggggggggg"
   },
   "source": [
    "### Run ComfyUI with colab iframe (use only in case the previous way with localtunnel doesn't work)\n",
    "\n",
    "You should see the ui appear in an iframe. If you get a 403 error, it's your firefox settings or an extension that's messing things up.\n",
    "\n",
    "If you want to open it in another window use the link.\n",
    "\n",
    "Note that some UI features like live image previews won't work because the colab iframe blocks websockets."
   ]
  },
  {
   "cell_type": "code",
   "execution_count": null,
   "metadata": {
    "id": "hhhhhhhhhh"
   },
   "outputs": [],
   "source": [
    "import threading\n",
    "import time\n",
    "import socket\n",
    "def iframe_thread(port):\n",
    "  while True:\n",
    "      time.sleep(0.5)\n",
    "      sock = socket.socket(socket.AF_INET, socket.SOCK_STREAM)\n",
    "      result = sock.connect_ex(('127.0.0.1', port))\n",
    "      if result == 0:\n",
    "        break\n",
    "      sock.close()\n",
    "  from google.colab import output\n",
    "  output.serve_kernel_port_as_iframe(port, height=1024)\n",
    "  print(\"to open it in a window you can open this link here:\")\n",
    "  output.serve_kernel_port_as_window(port)\n",
    "\n",
    "threading.Thread(target=iframe_thread, daemon=True, args=(8188,)).start()\n",
    "\n",
    "!python main.py --dont-print-server"
   ]
  }
 ],
 "metadata": {
  "accelerator": "GPU",
  "colab": {
   "provenance": [
    {
     "file_id": "https://github.com/Comfy-Org/ComfyUI-Manager/blob/main/notebooks/comfyui_colab_with_manager.ipynb",
     "timestamp": 1748549775322
    }
   ],
   "machine_shape": "hm",
   "gpuType": "T4"
  },
  "kernelspec": {
   "display_name": "Python 3",
   "name": "python3"
  },
  "language_info": {
   "name": "python"
  }
 },
 "nbformat": 4,
 "nbformat_minor": 0
}